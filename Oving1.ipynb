{
 "cells": [
  {
   "cell_type": "markdown",
   "id": "9d09d446",
   "metadata": {},
   "source": [
    "# TMA4320 Introduksjon til vitenskapelige beregninger\n",
    "## Øving 1\n",
    "\n",
    "**Veiledning**: Tirsdag 16. januar og torsdag 18.januar.\n",
    "\n",
    "Løsningsforslag vil bli lagt ut en gang i uke 4. "
   ]
  },
  {
   "cell_type": "markdown",
   "id": "665ada6a",
   "metadata": {},
   "source": [
    "### Oppgave 1 (Feilsøking og retting. Dokumentasjon).\n",
    "\n",
    "I denne oppgaven skal du beregne tilnærmelser til integraler ved hjelp av [Simpsons metode](https://wiki.math.ntnu.no/tma4100/tema/numerics?&#numerisk_integrasjon)\n",
    "\n",
    "\\begin{equation}\n",
    "\\int_a^b f(x)\\mathrm{d}x \\simeq S_{n} = \\frac{h}{3}\\left( f(x_0)+4\\sum_{i=1}^{n/2}f(x_{2i-1}) + 2\\sum_{i=1}^{n/2-1} f(x_{2i}) + f(x_{n}) \\right)\n",
    "\\end{equation}\n",
    "der $h=(b-a)/n$, der $n$ må være et like tall, og $x_i=a+ih$.\n",
    "\n",
    "Under er det et forslag til en kode, skrevet etter prinsippet raskt og gæli. Oppgaven går ut på: \n",
    "\n",
    "* Debug koden, både for syntaksfeil og logiske feil. Kan den forbedres på andre måter?\n",
    "* Skriv den om til en funksjon. Test funksjonen på et passende utvalg med testproblemer. \n",
    "* Dokumenter koden. \n",
    "\n",
    "Forslag til testproblemer med kjent løsning.\n",
    "\n",
    "1. $\\int_1^2 x^2\\mathrm{d}x = 7/3$. I dette tilfellet skal Simpsons formel levere et eksakt resultat. (Hvorfor?)\n",
    "2. $\\int_0^{\\pi/2} \\sin{x} \\mathrm{d}x = 1$. \n",
    "\n",
    "Finn gjerne på noen egne testproblemer også. \n",
    "\n",
    "**Hint**\n",
    "* Er det problemer med logiske feil, sett $n=2$, utfør regningene på papir, og sammenlign med hva som skjer i koden. \n",
    "* Flytt koden over til Spyder eller en annen IDE, og debug koden der. "
   ]
  },
  {
   "cell_type": "code",
   "execution_count": 40,
   "id": "9648e196",
   "metadata": {},
   "outputs": [],
   "source": [
    "# Eksempel 1\n",
    "from numpy import sin, pi\n",
    "def f(x):\n",
    "    return x**2\n",
    "a, b = 1, 2\n",
    "eksakt = 7/3\n",
    "\n",
    "# Blir eksakt siden simpsons metode baserer seg på andregradspolynom."
   ]
  },
  {
   "cell_type": "code",
   "execution_count": 43,
   "id": "c801be75",
   "metadata": {},
   "outputs": [],
   "source": [
    "# Eksempel 2\n",
    "def f(x):\n",
    "    return sin(x)\n",
    "a, b = 0, pi/2\n",
    "eksakt = 1.0"
   ]
  },
  {
   "cell_type": "code",
   "execution_count": 32,
   "id": "18ab86d0",
   "metadata": {},
   "outputs": [
    {
     "name": "stdout",
     "output_type": "stream",
     "text": [
      "S = 2.3333, feil = 0.000e+00\n"
     ]
    }
   ],
   "source": [
    "# Simpsons metode starter her\n",
    "def simpsons(n: int, a: float, b: float, f) -> float:\n",
    "    h = (b-a)/n\n",
    "    S = 0\n",
    "    for i in range(1,int(n/2) + 1):\n",
    "        x = a+(2*i-1)*h\n",
    "        S += 4*f(x)\n",
    "    for i in range(1, int(n/2)-1 + 1):\n",
    "        x = a+2*i*h\n",
    "        S += 2*f(x)\n",
    "    S = S + f(b) + f(a)\n",
    "    S = h*S/3\n",
    "    return S\n",
    "\n",
    "def simpsons_v2(n: int, a: float, b: float, f) -> float:\n",
    "    h = (b-a)/n\n",
    "    S = 0\n",
    "    for i in range(1, n, 2):\n",
    "        x1 = a+i*h  # Odd indicies\n",
    "        x2 = a+(i+1)*h  # Even indices\n",
    "        \n",
    "        S += 4*f(x1)\n",
    "        S += 2*f(x2)\n",
    "    S += f(a) - f(b)  # Vi have counted f(b) twice in the loop, but we only need one\n",
    "    return S*h/3\n",
    "\n",
    "S = simpsons_v2(2, a, b, f)\n",
    "feil = abs(S-eksakt)\n",
    "print(f'S = {S:.4f}, feil = {feil:.3e}')\n",
    "    "
   ]
  },
  {
   "cell_type": "markdown",
   "id": "ba2efd27",
   "metadata": {},
   "source": [
    "### Oppgave 2 (Numpy)\n",
    "\n",
    "Implementer Simpsons metode igjen, men denne gangen ved bruk av numpy. For eksempel ved: \n",
    "* Lag et array av gridpunktene $\\{x_i\\}_{i=0}^n$ ved bruk av <tt>np.linspace</tt>\n",
    "* For de to summene i uttrykket for Simpson's metode: Plukk ut de riktige gridpunktene $x_i$, finn funksjonsverdien av disse, og bruk <tt>np.sum</tt>. \n",
    "* Legg til funksjonsverdiene i de to endepunktene, multipliser med $h/3$.  "
   ]
  },
  {
   "cell_type": "code",
   "execution_count": 46,
   "id": "2d02dd0a",
   "metadata": {},
   "outputs": [
    {
     "name": "stdout",
     "output_type": "stream",
     "text": [
      "S = 1.0000, feil = 3.382e-10\n"
     ]
    }
   ],
   "source": [
    "import numpy as np\n",
    "\n",
    "\n",
    "def simpsons_numpy(n: int, a: float, b: float, f) -> float:\n",
    "    xs = np.linspace(a, b, n+1)  # Vi bruker én verdi mer enn n siden vi starter på indeks 0\n",
    "    h = xs[1] - xs[0]\n",
    "    xs = f(xs)\n",
    "    xs[1:-1:2] *= 4\n",
    "    xs[2:-1:2] *= 2\n",
    "    return float(np.sum(xs))*h/3\n",
    "\n",
    "S = simpsons_numpy(100, a, b, f)\n",
    "feil = abs(S-eksakt)\n",
    "print(f'S = {S:.4f}, feil = {feil:.3e}')"
   ]
  },
  {
   "cell_type": "markdown",
   "id": "afe94d29",
   "metadata": {},
   "source": [
    "### Oppgave 3 (Bruk av biblioteksrutiner)\n",
    "_Uten løsningsforslag_\n",
    "\n",
    "Gitt funksjonen\n",
    "\\begin{equation}\n",
    "f(x) = \\frac{1}{(x-5)^2+0.2} + \\frac{1}{(x-2)^2+0.05} + 2.\n",
    "\\end{equation}\n",
    "\n",
    "* Plot funksjonen over intervallet $[-2,8]$.\n",
    "* Finn en tilnærmelse til integralet $\\int_{-2}^8f(x)\\mathrm{d}x$ ved bruk av <tt>scipy.integrate.quad</tt>.  \n",
    "  \n",
    "  **Hint!** Les dokumentasjonen. Bla fram til eksemplene."
   ]
  },
  {
   "cell_type": "code",
   "execution_count": 47,
   "id": "df76776b",
   "metadata": {},
   "outputs": [
    {
     "data": {
      "image/png": "[encoded data removed]",
      "text/plain": [
       "<Figure size 640x480 with 1 Axes>"
      ]
     },
     "metadata": {},
     "output_type": "display_data"
    }
   ],
   "source": [
    "import matplotlib.pyplot as plt\n",
    "import numpy as np\n",
    "\n",
    "def g(xs: np.ndarray) -> np.ndarray:\n",
    "    return 1/((xs-5)**2 + 0.2) + 1/((xs-2)**2 + 0.05) + 2\n",
    "\n",
    "a, b = -2, 8\n",
    "xs = np.linspace(a, b, 100)\n",
    "ys = g(xs)\n",
    "plt.plot(xs, ys)\n",
    "plt.show()"
   ]
  },
  {
   "cell_type": "code",
   "execution_count": 51,
   "id": "56963230",
   "metadata": {},
   "outputs": [
    {
     "name": "stdout",
     "output_type": "stream",
     "text": [
      "Integral:  40.1846\n",
      "Error:  2.652e-08\n"
     ]
    }
   ],
   "source": [
    "from scipy.integrate import quad\n",
    "\n",
    "res = quad(g, a, b)\n",
    "print(f\"Integral: {res[0]: .4f}\\nError: {res[1]: .3e}\")"
   ]
  },
  {
   "cell_type": "markdown",
   "id": "3a1e9c72",
   "metadata": {},
   "source": [
    "### Oppgave 4 (Kompleksitet. Effektiv bruk av Numpy)\n",
    "\n",
    "La $A,B\\in \\mathbb{R}^{n \\times n}$. Produktet $C=AB$ regnes ut ved følgende algoritme:\n",
    "\n",
    "$$\n",
    "\\text{for } i=1,\\cdots,n \\\\\n",
    "\\qquad \\text{for } j=1,\\cdots,n \\\\\n",
    "\\qquad \\qquad c_{ij} = \\sum_{k=1}^n a_{ik} b_{kj}. \n",
    "$$\n",
    " \n",
    "**a)**\n",
    "\n",
    "Hvor mange flyttallsoperasjoner krever en slik matrise-matrise multiplikasjon av to $n\\times n$-matriser? \n",
    "\n",
    "Poenget med resten av denne oppgaven er hovedsaklig å vise hvor effektive Pythons innebygde rutiner for lineær algebra er. \n",
    "\n",
    "**b)** Skriv din egen rutine for å regne ut matrise-matrise produktet $C=BA$ med algoritmen over. \n",
    "\n",
    "Deretter: Velg $n$. Lag to tilfeldige $n\\times n$-matriser $A$ og $B$. Regn ut $C=AB$ med din egen rutine. Ta tiden. Sammenlign med den tiden det tar å gjøre samme operasjon med pythons multiplikasjonsoperator `@` eller `np.dot`. \n",
    "\n",
    "Gjenta gjerne eksperimentet med din egen `gauss_pivot` og `np.linalg.solve`. Velg høyreside selv. "
   ]
  },
  {
   "cell_type": "code",
   "execution_count": 62,
   "id": "44970967",
   "metadata": {},
   "outputs": [],
   "source": [
    "# n**2*(n+(n-1)) = n**2*(2n-1)\n",
    "# O(n**3)\n",
    "\n",
    "def mult(A: list[list[float]],B: list[list[float]]) -> list[list[float]]:\n",
    "    ''' \n",
    "    Regner ut matrise-matrise produktet C=AB. A, B er n*x matriser.\n",
    "    '''\n",
    "    n = len(A)\n",
    "    C: list[list[float]] = [[0 for j in range(0, n)] for i in range(0, n)]\n",
    "    for i in range(0, n):\n",
    "        for j in range(0, n):\n",
    "            for k in range(0, n):\n",
    "                C[i][j] += A[i][k]*B[k][j]\n",
    "    return C\n",
    "\n",
    "\n"
   ]
  },
  {
   "cell_type": "code",
   "execution_count": 64,
   "id": "5dcfe872",
   "metadata": {},
   "outputs": [
    {
     "name": "stdout",
     "output_type": "stream",
     "text": [
      "Min kode bruker     2.105e-01 s\n",
      "Pyhtons kode bruker 1.314e-04 s\n"
     ]
    }
   ],
   "source": [
    "# Lag matrisene\n",
    "n = 100\n",
    "A = np.random.randn(n,n)\n",
    "B = np.random.randn(n,n)\n",
    "\n",
    "# Test egen kode:\n",
    "import time\n",
    "B_list = list(B)\n",
    "A_list = list(A)\n",
    "tstart = time.time()\n",
    "C = mult(A_list,B_list)\n",
    "print(f'Min kode bruker     {time.time()-tstart:.3e} s')\n",
    "\n",
    "# Test pythons kode\n",
    "tstart = time.time()\n",
    "C = A@B\n",
    "print(f'Pyhtons kode bruker {time.time()-tstart:.3e} s')"
   ]
  },
  {
   "cell_type": "code",
   "execution_count": 65,
   "id": "2fb87c3e",
   "metadata": {},
   "outputs": [
    {
     "name": "stdout",
     "output_type": "stream",
     "text": [
      "355 ms ± 3.69 ms per loop (mean ± std. dev. of 7 runs, 1 loop each)\n",
      "64.6 µs ± 487 ns per loop (mean ± std. dev. of 7 runs, 10,000 loops each)\n"
     ]
    }
   ],
   "source": [
    "# Alternativ (og mer nøyaktig metode) for å måle tidsbruk:\n",
    "\n",
    "%timeit mult(A,B)\n",
    "%timeit A@B"
   ]
  },
  {
   "cell_type": "markdown",
   "id": "ecd61c6d",
   "metadata": {},
   "source": [
    "### Oppgave 5 (Feilanalyse og testing)\n",
    "_Uten løsningsforslag_\n",
    "\n",
    "Gitt følgende metode for å tilnærme $f''(x_0)$ for en gitt funksjon $f$:\n",
    "\n",
    "$$\n",
    "\\begin{equation}\n",
    "f''(x_0) = \\frac{f(x_0+h)-2f(x_0)+f(x_0-h)}{h^2} + e(h).\n",
    "\\end{equation}\n",
    "$$\n",
    "Du kan anta at $h>0$. \n",
    "\n",
    "**a)** Finn et uttrykk for feilen $e(h)$. Hvilke betingelser settes på $f$ for at uttrykket skal være gyldig?\n",
    "\n",
    "**b)** Test teorien numerisk. Velg selv testproblemer. \n"
   ]
  },
  {
   "cell_type": "code",
   "execution_count": 89,
   "id": "24b662dd",
   "metadata": {},
   "outputs": [
    {
     "name": "stdout",
     "output_type": "stream",
     "text": [
      "[20.0855386  20.08553892 20.08553926 20.08553963 20.08554004 20.08554046\n",
      " 20.08554092 20.0855414  20.08554192 20.08554246 20.08554302 20.08554362\n",
      " 20.08554424 20.08554489 20.08554557 20.08554627 20.08554701 20.08554777\n",
      " 20.08554856 20.08554937 20.08555022 20.08555109 20.08555199 20.08555291\n",
      " 20.08555387 20.08555485 20.08555586 20.0855569  20.08555796 20.08555906\n",
      " 20.08556018 20.08556132 20.0855625  20.0855637  20.08556494 20.08556619\n",
      " 20.08556748 20.08556879 20.08557014 20.08557151 20.0855729  20.08557433\n",
      " 20.08557578 20.08557726 20.08557877 20.0855803  20.08558187 20.08558346\n",
      " 20.08558508 20.08558672 20.0855884  20.0855901  20.08559183 20.08559358\n",
      " 20.08559537 20.08559718 20.08559902 20.08560089 20.08560278 20.08560471\n",
      " 20.08560666 20.08560863 20.08561064 20.08561267 20.08561473 20.08561682\n",
      " 20.08561894 20.08562108 20.08562326 20.08562545 20.08562768 20.08562994\n",
      " 20.08563222 20.08563453 20.08563687 20.08563923 20.08564163 20.08564405\n",
      " 20.08564649 20.08564897 20.08565147 20.08565401 20.08565657 20.08565915\n",
      " 20.08566177 20.08566441 20.08566708 20.08566978 20.0856725  20.08567525\n",
      " 20.08567803 20.08568084 20.08568368 20.08568654 20.08568943 20.08569235\n",
      " 20.0856953  20.08569827 20.08570127 20.0857043 ]\n"
     ]
    },
    {
     "data": {
      "image/png": "[encoded data removed]",
      "text/plain": [
       "<Figure size 640x480 with 1 Axes>"
      ]
     },
     "metadata": {},
     "output_type": "display_data"
    }
   ],
   "source": [
    "import numpy as np\n",
    "import matplotlib.pyplot as plt\n",
    "\n",
    "def f(x: np.ndarray) -> np.ndarray:\n",
    "    return np.exp(x)\n",
    "\n",
    "def err_dd_f(x: float, h: np.ndarray) -> np.ndarray:\n",
    "    dd_f = (f(x+h) - 2*f(np.full_like(h, x)) + f(x-h))/h**2\n",
    "    return np.abs(dd_f - np.exp(x))\n",
    "\n",
    "x = 3\n",
    "h = np.linspace(1e-3, 1e-2, 100)\n",
    "err = err_dd_f(x, h)\n",
    "err_analytic = lambda x, h: (np.exp(x+h)-np.exp(x))*h/6\n",
    "\n",
    "plt.plot(h, err, label=\"Err numeric\")\n",
    "plt.plot(h, err_analytic(x, h), label=\"Err analytic\")\n",
    "plt.legend()\n",
    "plt.xlabel(\"h\")\n",
    "plt.ylabel(\"Err\")\n",
    "plt.show()\n"
   ]
  }
 ],
 "metadata": {
  "kernelspec": {
   "display_name": "Python 3 (ipykernel)",
   "language": "python",
   "name": "python3"
  },
  "language_info": {
   "codemirror_mode": {
    "name": "ipython",
    "version": 3
   },
   "file_extension": ".py",
   "mimetype": "text/x-python",
   "name": "python",
   "nbconvert_exporter": "python",
   "pygments_lexer": "ipython3",
   "version": "3.11.7"
  }
 },
 "nbformat": 4,
 "nbformat_minor": 5
}
